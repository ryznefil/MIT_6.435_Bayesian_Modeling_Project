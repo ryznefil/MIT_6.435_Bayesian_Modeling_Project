{
 "cells": [
  {
   "cell_type": "code",
   "execution_count": 1,
   "metadata": {
    "collapsed": true
   },
   "outputs": [
    {
     "name": "stdout",
     "output_type": "stream",
     "text": [
      "['/Users/ryznerf/Documents/0_MIT/Spring_2022/0_Projects/1_Bayesian_Modelling_project/BayesianSales/main_code', '/Users/ryznerf/Documents/0_MIT/Spring_2022/0_Projects/1_Bayesian_Modelling_project/BayesianSales', '/Users/ryznerf/Documents/0_MIT/Spring_2022/0_Projects/1_Bayesian_Modelling_project/BayesianSales/data_processing', '/Users/ryznerf/Documents/0_MIT/Spring_2022/0_Projects/1_Bayesian_Modelling_project/BayesianSales/data_processing/data', '/Users/ryznerf/Documents/0_MIT/Spring_2022/0_Projects/1_Bayesian_Modelling_project/BayesianSales/data_processing/processing_code', '/Users/ryznerf/Documents/0_MIT/Spring_2022/0_Projects/1_Bayesian_Modelling_project/BayesianSales/main_code', '/Users/ryznerf/anaconda3/envs/stan/lib/python310.zip', '/Users/ryznerf/anaconda3/envs/stan/lib/python3.10', '/Users/ryznerf/anaconda3/envs/stan/lib/python3.10/lib-dynload', '', '/Users/ryznerf/anaconda3/envs/stan/lib/python3.10/site-packages', '/Users/ryznerf/Documents/0_MIT/Spring_2022/0_Projects/1_Bayesian_Modelling_project/BayesianSales']\n",
      "Processing from: /Users/ryznerf/Documents/0_MIT/Spring_2022/0_Projects/1_Bayesian_Modelling_project/BayesianSales/main_code\n",
      "Processing from: /Users/ryznerf/Documents/0_MIT/Spring_2022/0_Projects/1_Bayesian_Modelling_project/BayesianSales/main_code\n"
     ]
    }
   ],
   "source": [
    "import pandas as pd\n",
    "import numpy as np\n",
    "import matplotlib.pyplot as plt\n",
    "import seaborn as sns\n",
    "\n",
    "from utils import unpickle_object\n",
    "from stan_models import plot_simple_model_results\n",
    "from stan_models import Bayesian_model\n",
    "from stan_models import sMAPE\n",
    "from stan_models import make_prediction_stan_sampling\n",
    "from processing import M5Data"
   ]
  },
  {
   "cell_type": "code",
   "execution_count": 3,
   "outputs": [],
   "source": [
    "train_date_split='2014-06-01'"
   ],
   "metadata": {
    "collapsed": false,
    "pycharm": {
     "name": "#%%\n"
    }
   }
  },
  {
   "cell_type": "code",
   "execution_count": 4,
   "outputs": [
    {
     "name": "stdout",
     "output_type": "stream",
     "text": [
      "Using query: item_id == 'FOODS_1_096'\n",
      "Processed data for query: item_id == 'FOODS_1_096'\n"
     ]
    }
   ],
   "source": [
    "# initialize the dataset that was used for training\n",
    "queried_item = \"item_id == 'FOODS_1_096'\"\n",
    "model = Bayesian_model(day_start=1, day_end=1940)\n",
    "_ = model.query_model_data(query=queried_item)"
   ],
   "metadata": {
    "collapsed": false,
    "pycharm": {
     "name": "#%%\n"
    }
   }
  },
  {
   "cell_type": "code",
   "execution_count": 7,
   "outputs": [],
   "source": [
    "train = model.create_train_data(train_date_split)"
   ],
   "metadata": {
    "collapsed": false,
    "pycharm": {
     "name": "#%%\n"
    }
   }
  },
  {
   "cell_type": "code",
   "execution_count": 8,
   "outputs": [
    {
     "data": {
      "text/plain": "     store_id       date state_id  demand  sell_price      log_Q     log_P  \\\n0        CA_1 2011-01-30       CA     0.0        6.22 -69.077553  1.827770   \n1        CA_1 2011-02-06       CA     1.0        6.22   0.000000  1.827770   \n2        CA_1 2011-02-13       CA     1.0        6.22   0.000000  1.827770   \n3        CA_1 2011-02-20       CA     1.0        6.22   0.000000  1.827770   \n4        CA_1 2011-02-27       CA     1.0        6.22   0.000000  1.827770   \n...       ...        ...      ...     ...         ...        ...       ...   \n2672     WI_3 2014-05-04       WI    57.0        7.89   4.043051  2.065596   \n2673     WI_3 2014-05-11       WI    61.0        7.89   4.110874  2.065596   \n2674     WI_3 2014-05-18       WI    68.0        7.89   4.219508  2.065596   \n2675     WI_3 2014-05-25       WI    29.0        7.91   3.367296  2.068128   \n2676     WI_3 2014-06-01       WI    60.0        7.96   4.094345  2.074429   \n\n         P     Q  m_1  m_2  m_3  m_4  m_5  m_6  m_7  m_8  m_9  m_10  m_11  \\\n0     6.22   0.0    1    0    0    0    0    0    0    0    0     0     0   \n1     6.22   1.0    0    1    0    0    0    0    0    0    0     0     0   \n2     6.22   1.0    0    1    0    0    0    0    0    0    0     0     0   \n3     6.22   1.0    0    1    0    0    0    0    0    0    0     0     0   \n4     6.22   1.0    0    1    0    0    0    0    0    0    0     0     0   \n...    ...   ...  ...  ...  ...  ...  ...  ...  ...  ...  ...   ...   ...   \n2672  7.89  57.0    0    0    0    0    1    0    0    0    0     0     0   \n2673  7.89  61.0    0    0    0    0    1    0    0    0    0     0     0   \n2674  7.89  68.0    0    0    0    0    1    0    0    0    0     0     0   \n2675  7.91  29.0    0    0    0    0    1    0    0    0    0     0     0   \n2676  7.96  60.0    0    0    0    0    0    1    0    0    0     0     0   \n\n      m_12  q_1  q_2  q_3  q_4  \n0        0    1    0    0    0  \n1        0    1    0    0    0  \n2        0    1    0    0    0  \n3        0    1    0    0    0  \n4        0    1    0    0    0  \n...    ...  ...  ...  ...  ...  \n2672     0    0    1    0    0  \n2673     0    0    1    0    0  \n2674     0    0    1    0    0  \n2675     0    0    1    0    0  \n2676     0    0    1    0    0  \n\n[1750 rows x 25 columns]",
      "text/html": "<div>\n<style scoped>\n    .dataframe tbody tr th:only-of-type {\n        vertical-align: middle;\n    }\n\n    .dataframe tbody tr th {\n        vertical-align: top;\n    }\n\n    .dataframe thead th {\n        text-align: right;\n    }\n</style>\n<table border=\"1\" class=\"dataframe\">\n  <thead>\n    <tr style=\"text-align: right;\">\n      <th></th>\n      <th>store_id</th>\n      <th>date</th>\n      <th>state_id</th>\n      <th>demand</th>\n      <th>sell_price</th>\n      <th>log_Q</th>\n      <th>log_P</th>\n      <th>P</th>\n      <th>Q</th>\n      <th>m_1</th>\n      <th>m_2</th>\n      <th>m_3</th>\n      <th>m_4</th>\n      <th>m_5</th>\n      <th>m_6</th>\n      <th>m_7</th>\n      <th>m_8</th>\n      <th>m_9</th>\n      <th>m_10</th>\n      <th>m_11</th>\n      <th>m_12</th>\n      <th>q_1</th>\n      <th>q_2</th>\n      <th>q_3</th>\n      <th>q_4</th>\n    </tr>\n  </thead>\n  <tbody>\n    <tr>\n      <th>0</th>\n      <td>CA_1</td>\n      <td>2011-01-30</td>\n      <td>CA</td>\n      <td>0.0</td>\n      <td>6.22</td>\n      <td>-69.077553</td>\n      <td>1.827770</td>\n      <td>6.22</td>\n      <td>0.0</td>\n      <td>1</td>\n      <td>0</td>\n      <td>0</td>\n      <td>0</td>\n      <td>0</td>\n      <td>0</td>\n      <td>0</td>\n      <td>0</td>\n      <td>0</td>\n      <td>0</td>\n      <td>0</td>\n      <td>0</td>\n      <td>1</td>\n      <td>0</td>\n      <td>0</td>\n      <td>0</td>\n    </tr>\n    <tr>\n      <th>1</th>\n      <td>CA_1</td>\n      <td>2011-02-06</td>\n      <td>CA</td>\n      <td>1.0</td>\n      <td>6.22</td>\n      <td>0.000000</td>\n      <td>1.827770</td>\n      <td>6.22</td>\n      <td>1.0</td>\n      <td>0</td>\n      <td>1</td>\n      <td>0</td>\n      <td>0</td>\n      <td>0</td>\n      <td>0</td>\n      <td>0</td>\n      <td>0</td>\n      <td>0</td>\n      <td>0</td>\n      <td>0</td>\n      <td>0</td>\n      <td>1</td>\n      <td>0</td>\n      <td>0</td>\n      <td>0</td>\n    </tr>\n    <tr>\n      <th>2</th>\n      <td>CA_1</td>\n      <td>2011-02-13</td>\n      <td>CA</td>\n      <td>1.0</td>\n      <td>6.22</td>\n      <td>0.000000</td>\n      <td>1.827770</td>\n      <td>6.22</td>\n      <td>1.0</td>\n      <td>0</td>\n      <td>1</td>\n      <td>0</td>\n      <td>0</td>\n      <td>0</td>\n      <td>0</td>\n      <td>0</td>\n      <td>0</td>\n      <td>0</td>\n      <td>0</td>\n      <td>0</td>\n      <td>0</td>\n      <td>1</td>\n      <td>0</td>\n      <td>0</td>\n      <td>0</td>\n    </tr>\n    <tr>\n      <th>3</th>\n      <td>CA_1</td>\n      <td>2011-02-20</td>\n      <td>CA</td>\n      <td>1.0</td>\n      <td>6.22</td>\n      <td>0.000000</td>\n      <td>1.827770</td>\n      <td>6.22</td>\n      <td>1.0</td>\n      <td>0</td>\n      <td>1</td>\n      <td>0</td>\n      <td>0</td>\n      <td>0</td>\n      <td>0</td>\n      <td>0</td>\n      <td>0</td>\n      <td>0</td>\n      <td>0</td>\n      <td>0</td>\n      <td>0</td>\n      <td>1</td>\n      <td>0</td>\n      <td>0</td>\n      <td>0</td>\n    </tr>\n    <tr>\n      <th>4</th>\n      <td>CA_1</td>\n      <td>2011-02-27</td>\n      <td>CA</td>\n      <td>1.0</td>\n      <td>6.22</td>\n      <td>0.000000</td>\n      <td>1.827770</td>\n      <td>6.22</td>\n      <td>1.0</td>\n      <td>0</td>\n      <td>1</td>\n      <td>0</td>\n      <td>0</td>\n      <td>0</td>\n      <td>0</td>\n      <td>0</td>\n      <td>0</td>\n      <td>0</td>\n      <td>0</td>\n      <td>0</td>\n      <td>0</td>\n      <td>1</td>\n      <td>0</td>\n      <td>0</td>\n      <td>0</td>\n    </tr>\n    <tr>\n      <th>...</th>\n      <td>...</td>\n      <td>...</td>\n      <td>...</td>\n      <td>...</td>\n      <td>...</td>\n      <td>...</td>\n      <td>...</td>\n      <td>...</td>\n      <td>...</td>\n      <td>...</td>\n      <td>...</td>\n      <td>...</td>\n      <td>...</td>\n      <td>...</td>\n      <td>...</td>\n      <td>...</td>\n      <td>...</td>\n      <td>...</td>\n      <td>...</td>\n      <td>...</td>\n      <td>...</td>\n      <td>...</td>\n      <td>...</td>\n      <td>...</td>\n      <td>...</td>\n    </tr>\n    <tr>\n      <th>2672</th>\n      <td>WI_3</td>\n      <td>2014-05-04</td>\n      <td>WI</td>\n      <td>57.0</td>\n      <td>7.89</td>\n      <td>4.043051</td>\n      <td>2.065596</td>\n      <td>7.89</td>\n      <td>57.0</td>\n      <td>0</td>\n      <td>0</td>\n      <td>0</td>\n      <td>0</td>\n      <td>1</td>\n      <td>0</td>\n      <td>0</td>\n      <td>0</td>\n      <td>0</td>\n      <td>0</td>\n      <td>0</td>\n      <td>0</td>\n      <td>0</td>\n      <td>1</td>\n      <td>0</td>\n      <td>0</td>\n    </tr>\n    <tr>\n      <th>2673</th>\n      <td>WI_3</td>\n      <td>2014-05-11</td>\n      <td>WI</td>\n      <td>61.0</td>\n      <td>7.89</td>\n      <td>4.110874</td>\n      <td>2.065596</td>\n      <td>7.89</td>\n      <td>61.0</td>\n      <td>0</td>\n      <td>0</td>\n      <td>0</td>\n      <td>0</td>\n      <td>1</td>\n      <td>0</td>\n      <td>0</td>\n      <td>0</td>\n      <td>0</td>\n      <td>0</td>\n      <td>0</td>\n      <td>0</td>\n      <td>0</td>\n      <td>1</td>\n      <td>0</td>\n      <td>0</td>\n    </tr>\n    <tr>\n      <th>2674</th>\n      <td>WI_3</td>\n      <td>2014-05-18</td>\n      <td>WI</td>\n      <td>68.0</td>\n      <td>7.89</td>\n      <td>4.219508</td>\n      <td>2.065596</td>\n      <td>7.89</td>\n      <td>68.0</td>\n      <td>0</td>\n      <td>0</td>\n      <td>0</td>\n      <td>0</td>\n      <td>1</td>\n      <td>0</td>\n      <td>0</td>\n      <td>0</td>\n      <td>0</td>\n      <td>0</td>\n      <td>0</td>\n      <td>0</td>\n      <td>0</td>\n      <td>1</td>\n      <td>0</td>\n      <td>0</td>\n    </tr>\n    <tr>\n      <th>2675</th>\n      <td>WI_3</td>\n      <td>2014-05-25</td>\n      <td>WI</td>\n      <td>29.0</td>\n      <td>7.91</td>\n      <td>3.367296</td>\n      <td>2.068128</td>\n      <td>7.91</td>\n      <td>29.0</td>\n      <td>0</td>\n      <td>0</td>\n      <td>0</td>\n      <td>0</td>\n      <td>1</td>\n      <td>0</td>\n      <td>0</td>\n      <td>0</td>\n      <td>0</td>\n      <td>0</td>\n      <td>0</td>\n      <td>0</td>\n      <td>0</td>\n      <td>1</td>\n      <td>0</td>\n      <td>0</td>\n    </tr>\n    <tr>\n      <th>2676</th>\n      <td>WI_3</td>\n      <td>2014-06-01</td>\n      <td>WI</td>\n      <td>60.0</td>\n      <td>7.96</td>\n      <td>4.094345</td>\n      <td>2.074429</td>\n      <td>7.96</td>\n      <td>60.0</td>\n      <td>0</td>\n      <td>0</td>\n      <td>0</td>\n      <td>0</td>\n      <td>0</td>\n      <td>1</td>\n      <td>0</td>\n      <td>0</td>\n      <td>0</td>\n      <td>0</td>\n      <td>0</td>\n      <td>0</td>\n      <td>0</td>\n      <td>1</td>\n      <td>0</td>\n      <td>0</td>\n    </tr>\n  </tbody>\n</table>\n<p>1750 rows × 25 columns</p>\n</div>"
     },
     "execution_count": 8,
     "metadata": {},
     "output_type": "execute_result"
    }
   ],
   "source": [
    "train"
   ],
   "metadata": {
    "collapsed": false,
    "pycharm": {
     "name": "#%%\n"
    }
   }
  },
  {
   "cell_type": "code",
   "execution_count": 18,
   "outputs": [],
   "source": [
    "cluster_level = 'store_id'\n",
    "store_labels = train[cluster_level].unique()\n",
    "ticker_dic = {}\n",
    "for cluster, store in enumerate(store_labels):\n",
    "    ticker_dic[store] = cluster\n",
    "\n",
    "train['cluster'] = train[cluster_level].apply(lambda x: ticker_dic[x])"
   ],
   "metadata": {
    "collapsed": false,
    "pycharm": {
     "name": "#%%\n"
    }
   }
  },
  {
   "cell_type": "code",
   "execution_count": 21,
   "outputs": [
    {
     "data": {
      "text/plain": "     store_id       date state_id  demand  sell_price      log_Q     log_P  \\\n0        CA_1 2011-01-30       CA     0.0        6.22 -69.077553  1.827770   \n1        CA_1 2011-02-06       CA     1.0        6.22   0.000000  1.827770   \n2        CA_1 2011-02-13       CA     1.0        6.22   0.000000  1.827770   \n3        CA_1 2011-02-20       CA     1.0        6.22   0.000000  1.827770   \n4        CA_1 2011-02-27       CA     1.0        6.22   0.000000  1.827770   \n...       ...        ...      ...     ...         ...        ...       ...   \n2672     WI_3 2014-05-04       WI    57.0        7.89   4.043051  2.065596   \n2673     WI_3 2014-05-11       WI    61.0        7.89   4.110874  2.065596   \n2674     WI_3 2014-05-18       WI    68.0        7.89   4.219508  2.065596   \n2675     WI_3 2014-05-25       WI    29.0        7.91   3.367296  2.068128   \n2676     WI_3 2014-06-01       WI    60.0        7.96   4.094345  2.074429   \n\n         P     Q  m_1  m_2  m_3  m_4  m_5  m_6  m_7  m_8  m_9  m_10  m_11  \\\n0     6.22   0.0    1    0    0    0    0    0    0    0    0     0     0   \n1     6.22   1.0    0    1    0    0    0    0    0    0    0     0     0   \n2     6.22   1.0    0    1    0    0    0    0    0    0    0     0     0   \n3     6.22   1.0    0    1    0    0    0    0    0    0    0     0     0   \n4     6.22   1.0    0    1    0    0    0    0    0    0    0     0     0   \n...    ...   ...  ...  ...  ...  ...  ...  ...  ...  ...  ...   ...   ...   \n2672  7.89  57.0    0    0    0    0    1    0    0    0    0     0     0   \n2673  7.89  61.0    0    0    0    0    1    0    0    0    0     0     0   \n2674  7.89  68.0    0    0    0    0    1    0    0    0    0     0     0   \n2675  7.91  29.0    0    0    0    0    1    0    0    0    0     0     0   \n2676  7.96  60.0    0    0    0    0    0    1    0    0    0     0     0   \n\n      m_12  q_1  q_2  q_3  q_4  cluster  \n0        0    1    0    0    0        0  \n1        0    1    0    0    0        0  \n2        0    1    0    0    0        0  \n3        0    1    0    0    0        0  \n4        0    1    0    0    0        0  \n...    ...  ...  ...  ...  ...      ...  \n2672     0    0    1    0    0        9  \n2673     0    0    1    0    0        9  \n2674     0    0    1    0    0        9  \n2675     0    0    1    0    0        9  \n2676     0    0    1    0    0        9  \n\n[1750 rows x 26 columns]",
      "text/html": "<div>\n<style scoped>\n    .dataframe tbody tr th:only-of-type {\n        vertical-align: middle;\n    }\n\n    .dataframe tbody tr th {\n        vertical-align: top;\n    }\n\n    .dataframe thead th {\n        text-align: right;\n    }\n</style>\n<table border=\"1\" class=\"dataframe\">\n  <thead>\n    <tr style=\"text-align: right;\">\n      <th></th>\n      <th>store_id</th>\n      <th>date</th>\n      <th>state_id</th>\n      <th>demand</th>\n      <th>sell_price</th>\n      <th>log_Q</th>\n      <th>log_P</th>\n      <th>P</th>\n      <th>Q</th>\n      <th>m_1</th>\n      <th>m_2</th>\n      <th>m_3</th>\n      <th>m_4</th>\n      <th>m_5</th>\n      <th>m_6</th>\n      <th>m_7</th>\n      <th>m_8</th>\n      <th>m_9</th>\n      <th>m_10</th>\n      <th>m_11</th>\n      <th>m_12</th>\n      <th>q_1</th>\n      <th>q_2</th>\n      <th>q_3</th>\n      <th>q_4</th>\n      <th>cluster</th>\n    </tr>\n  </thead>\n  <tbody>\n    <tr>\n      <th>0</th>\n      <td>CA_1</td>\n      <td>2011-01-30</td>\n      <td>CA</td>\n      <td>0.0</td>\n      <td>6.22</td>\n      <td>-69.077553</td>\n      <td>1.827770</td>\n      <td>6.22</td>\n      <td>0.0</td>\n      <td>1</td>\n      <td>0</td>\n      <td>0</td>\n      <td>0</td>\n      <td>0</td>\n      <td>0</td>\n      <td>0</td>\n      <td>0</td>\n      <td>0</td>\n      <td>0</td>\n      <td>0</td>\n      <td>0</td>\n      <td>1</td>\n      <td>0</td>\n      <td>0</td>\n      <td>0</td>\n      <td>0</td>\n    </tr>\n    <tr>\n      <th>1</th>\n      <td>CA_1</td>\n      <td>2011-02-06</td>\n      <td>CA</td>\n      <td>1.0</td>\n      <td>6.22</td>\n      <td>0.000000</td>\n      <td>1.827770</td>\n      <td>6.22</td>\n      <td>1.0</td>\n      <td>0</td>\n      <td>1</td>\n      <td>0</td>\n      <td>0</td>\n      <td>0</td>\n      <td>0</td>\n      <td>0</td>\n      <td>0</td>\n      <td>0</td>\n      <td>0</td>\n      <td>0</td>\n      <td>0</td>\n      <td>1</td>\n      <td>0</td>\n      <td>0</td>\n      <td>0</td>\n      <td>0</td>\n    </tr>\n    <tr>\n      <th>2</th>\n      <td>CA_1</td>\n      <td>2011-02-13</td>\n      <td>CA</td>\n      <td>1.0</td>\n      <td>6.22</td>\n      <td>0.000000</td>\n      <td>1.827770</td>\n      <td>6.22</td>\n      <td>1.0</td>\n      <td>0</td>\n      <td>1</td>\n      <td>0</td>\n      <td>0</td>\n      <td>0</td>\n      <td>0</td>\n      <td>0</td>\n      <td>0</td>\n      <td>0</td>\n      <td>0</td>\n      <td>0</td>\n      <td>0</td>\n      <td>1</td>\n      <td>0</td>\n      <td>0</td>\n      <td>0</td>\n      <td>0</td>\n    </tr>\n    <tr>\n      <th>3</th>\n      <td>CA_1</td>\n      <td>2011-02-20</td>\n      <td>CA</td>\n      <td>1.0</td>\n      <td>6.22</td>\n      <td>0.000000</td>\n      <td>1.827770</td>\n      <td>6.22</td>\n      <td>1.0</td>\n      <td>0</td>\n      <td>1</td>\n      <td>0</td>\n      <td>0</td>\n      <td>0</td>\n      <td>0</td>\n      <td>0</td>\n      <td>0</td>\n      <td>0</td>\n      <td>0</td>\n      <td>0</td>\n      <td>0</td>\n      <td>1</td>\n      <td>0</td>\n      <td>0</td>\n      <td>0</td>\n      <td>0</td>\n    </tr>\n    <tr>\n      <th>4</th>\n      <td>CA_1</td>\n      <td>2011-02-27</td>\n      <td>CA</td>\n      <td>1.0</td>\n      <td>6.22</td>\n      <td>0.000000</td>\n      <td>1.827770</td>\n      <td>6.22</td>\n      <td>1.0</td>\n      <td>0</td>\n      <td>1</td>\n      <td>0</td>\n      <td>0</td>\n      <td>0</td>\n      <td>0</td>\n      <td>0</td>\n      <td>0</td>\n      <td>0</td>\n      <td>0</td>\n      <td>0</td>\n      <td>0</td>\n      <td>1</td>\n      <td>0</td>\n      <td>0</td>\n      <td>0</td>\n      <td>0</td>\n    </tr>\n    <tr>\n      <th>...</th>\n      <td>...</td>\n      <td>...</td>\n      <td>...</td>\n      <td>...</td>\n      <td>...</td>\n      <td>...</td>\n      <td>...</td>\n      <td>...</td>\n      <td>...</td>\n      <td>...</td>\n      <td>...</td>\n      <td>...</td>\n      <td>...</td>\n      <td>...</td>\n      <td>...</td>\n      <td>...</td>\n      <td>...</td>\n      <td>...</td>\n      <td>...</td>\n      <td>...</td>\n      <td>...</td>\n      <td>...</td>\n      <td>...</td>\n      <td>...</td>\n      <td>...</td>\n      <td>...</td>\n    </tr>\n    <tr>\n      <th>2672</th>\n      <td>WI_3</td>\n      <td>2014-05-04</td>\n      <td>WI</td>\n      <td>57.0</td>\n      <td>7.89</td>\n      <td>4.043051</td>\n      <td>2.065596</td>\n      <td>7.89</td>\n      <td>57.0</td>\n      <td>0</td>\n      <td>0</td>\n      <td>0</td>\n      <td>0</td>\n      <td>1</td>\n      <td>0</td>\n      <td>0</td>\n      <td>0</td>\n      <td>0</td>\n      <td>0</td>\n      <td>0</td>\n      <td>0</td>\n      <td>0</td>\n      <td>1</td>\n      <td>0</td>\n      <td>0</td>\n      <td>9</td>\n    </tr>\n    <tr>\n      <th>2673</th>\n      <td>WI_3</td>\n      <td>2014-05-11</td>\n      <td>WI</td>\n      <td>61.0</td>\n      <td>7.89</td>\n      <td>4.110874</td>\n      <td>2.065596</td>\n      <td>7.89</td>\n      <td>61.0</td>\n      <td>0</td>\n      <td>0</td>\n      <td>0</td>\n      <td>0</td>\n      <td>1</td>\n      <td>0</td>\n      <td>0</td>\n      <td>0</td>\n      <td>0</td>\n      <td>0</td>\n      <td>0</td>\n      <td>0</td>\n      <td>0</td>\n      <td>1</td>\n      <td>0</td>\n      <td>0</td>\n      <td>9</td>\n    </tr>\n    <tr>\n      <th>2674</th>\n      <td>WI_3</td>\n      <td>2014-05-18</td>\n      <td>WI</td>\n      <td>68.0</td>\n      <td>7.89</td>\n      <td>4.219508</td>\n      <td>2.065596</td>\n      <td>7.89</td>\n      <td>68.0</td>\n      <td>0</td>\n      <td>0</td>\n      <td>0</td>\n      <td>0</td>\n      <td>1</td>\n      <td>0</td>\n      <td>0</td>\n      <td>0</td>\n      <td>0</td>\n      <td>0</td>\n      <td>0</td>\n      <td>0</td>\n      <td>0</td>\n      <td>1</td>\n      <td>0</td>\n      <td>0</td>\n      <td>9</td>\n    </tr>\n    <tr>\n      <th>2675</th>\n      <td>WI_3</td>\n      <td>2014-05-25</td>\n      <td>WI</td>\n      <td>29.0</td>\n      <td>7.91</td>\n      <td>3.367296</td>\n      <td>2.068128</td>\n      <td>7.91</td>\n      <td>29.0</td>\n      <td>0</td>\n      <td>0</td>\n      <td>0</td>\n      <td>0</td>\n      <td>1</td>\n      <td>0</td>\n      <td>0</td>\n      <td>0</td>\n      <td>0</td>\n      <td>0</td>\n      <td>0</td>\n      <td>0</td>\n      <td>0</td>\n      <td>1</td>\n      <td>0</td>\n      <td>0</td>\n      <td>9</td>\n    </tr>\n    <tr>\n      <th>2676</th>\n      <td>WI_3</td>\n      <td>2014-06-01</td>\n      <td>WI</td>\n      <td>60.0</td>\n      <td>7.96</td>\n      <td>4.094345</td>\n      <td>2.074429</td>\n      <td>7.96</td>\n      <td>60.0</td>\n      <td>0</td>\n      <td>0</td>\n      <td>0</td>\n      <td>0</td>\n      <td>0</td>\n      <td>1</td>\n      <td>0</td>\n      <td>0</td>\n      <td>0</td>\n      <td>0</td>\n      <td>0</td>\n      <td>0</td>\n      <td>0</td>\n      <td>1</td>\n      <td>0</td>\n      <td>0</td>\n      <td>9</td>\n    </tr>\n  </tbody>\n</table>\n<p>1750 rows × 26 columns</p>\n</div>"
     },
     "execution_count": 21,
     "metadata": {},
     "output_type": "execute_result"
    }
   ],
   "source": [
    "train"
   ],
   "metadata": {
    "collapsed": false,
    "pycharm": {
     "name": "#%%\n"
    }
   }
  },
  {
   "cell_type": "code",
   "execution_count": null,
   "outputs": [],
   "source": [],
   "metadata": {
    "collapsed": false,
    "pycharm": {
     "name": "#%%\n"
    }
   }
  }
 ],
 "metadata": {
  "kernelspec": {
   "display_name": "Python 3",
   "language": "python",
   "name": "python3"
  },
  "language_info": {
   "codemirror_mode": {
    "name": "ipython",
    "version": 2
   },
   "file_extension": ".py",
   "mimetype": "text/x-python",
   "name": "python",
   "nbconvert_exporter": "python",
   "pygments_lexer": "ipython2",
   "version": "2.7.6"
  }
 },
 "nbformat": 4,
 "nbformat_minor": 0
}